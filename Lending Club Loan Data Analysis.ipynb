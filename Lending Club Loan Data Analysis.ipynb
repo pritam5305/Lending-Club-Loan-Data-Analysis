{
 "cells": [
  {
   "cell_type": "code",
   "execution_count": 104,
   "metadata": {},
   "outputs": [],
   "source": [
    "# IMPORTING LIBRARIES\n",
    "import pandas as pd\n",
    "import numpy as np\n",
    "import tensorflow as tf\n",
    "from keras.layers import Input,Dense,Dropout,Flatten,BatchNormalization\n",
    "from keras import regularizers\n",
    "from keras.optimizers import SGD\n",
    "from keras.models import Sequential\n",
    "import seaborn as sns"
   ]
  },
  {
   "cell_type": "code",
   "execution_count": 28,
   "metadata": {},
   "outputs": [],
   "source": [
    "# SETTING THE DISPLAY OPTION AS MAXIMUM FOR BOTH COLUMNS AND ROWS\n",
    "pd.set_option('display.max_columns',None)\n",
    "pd.set_option('display.max_rows',None)"
   ]
  },
  {
   "cell_type": "code",
   "execution_count": 4,
   "metadata": {},
   "outputs": [
    {
     "data": {
      "text/html": [
       "<div>\n",
       "<style scoped>\n",
       "    .dataframe tbody tr th:only-of-type {\n",
       "        vertical-align: middle;\n",
       "    }\n",
       "\n",
       "    .dataframe tbody tr th {\n",
       "        vertical-align: top;\n",
       "    }\n",
       "\n",
       "    .dataframe thead th {\n",
       "        text-align: right;\n",
       "    }\n",
       "</style>\n",
       "<table border=\"1\" class=\"dataframe\">\n",
       "  <thead>\n",
       "    <tr style=\"text-align: right;\">\n",
       "      <th></th>\n",
       "      <th>credit.policy</th>\n",
       "      <th>purpose</th>\n",
       "      <th>int.rate</th>\n",
       "      <th>installment</th>\n",
       "      <th>log.annual.inc</th>\n",
       "      <th>dti</th>\n",
       "      <th>fico</th>\n",
       "      <th>days.with.cr.line</th>\n",
       "      <th>revol.bal</th>\n",
       "      <th>revol.util</th>\n",
       "      <th>inq.last.6mths</th>\n",
       "      <th>delinq.2yrs</th>\n",
       "      <th>pub.rec</th>\n",
       "      <th>not.fully.paid</th>\n",
       "    </tr>\n",
       "  </thead>\n",
       "  <tbody>\n",
       "    <tr>\n",
       "      <th>0</th>\n",
       "      <td>1</td>\n",
       "      <td>debt_consolidation</td>\n",
       "      <td>0.1189</td>\n",
       "      <td>829.10</td>\n",
       "      <td>11.350407</td>\n",
       "      <td>19.48</td>\n",
       "      <td>737</td>\n",
       "      <td>5639.958333</td>\n",
       "      <td>28854</td>\n",
       "      <td>52.1</td>\n",
       "      <td>0</td>\n",
       "      <td>0</td>\n",
       "      <td>0</td>\n",
       "      <td>0</td>\n",
       "    </tr>\n",
       "    <tr>\n",
       "      <th>1</th>\n",
       "      <td>1</td>\n",
       "      <td>credit_card</td>\n",
       "      <td>0.1071</td>\n",
       "      <td>228.22</td>\n",
       "      <td>11.082143</td>\n",
       "      <td>14.29</td>\n",
       "      <td>707</td>\n",
       "      <td>2760.000000</td>\n",
       "      <td>33623</td>\n",
       "      <td>76.7</td>\n",
       "      <td>0</td>\n",
       "      <td>0</td>\n",
       "      <td>0</td>\n",
       "      <td>0</td>\n",
       "    </tr>\n",
       "    <tr>\n",
       "      <th>2</th>\n",
       "      <td>1</td>\n",
       "      <td>debt_consolidation</td>\n",
       "      <td>0.1357</td>\n",
       "      <td>366.86</td>\n",
       "      <td>10.373491</td>\n",
       "      <td>11.63</td>\n",
       "      <td>682</td>\n",
       "      <td>4710.000000</td>\n",
       "      <td>3511</td>\n",
       "      <td>25.6</td>\n",
       "      <td>1</td>\n",
       "      <td>0</td>\n",
       "      <td>0</td>\n",
       "      <td>0</td>\n",
       "    </tr>\n",
       "    <tr>\n",
       "      <th>3</th>\n",
       "      <td>1</td>\n",
       "      <td>debt_consolidation</td>\n",
       "      <td>0.1008</td>\n",
       "      <td>162.34</td>\n",
       "      <td>11.350407</td>\n",
       "      <td>8.10</td>\n",
       "      <td>712</td>\n",
       "      <td>2699.958333</td>\n",
       "      <td>33667</td>\n",
       "      <td>73.2</td>\n",
       "      <td>1</td>\n",
       "      <td>0</td>\n",
       "      <td>0</td>\n",
       "      <td>0</td>\n",
       "    </tr>\n",
       "    <tr>\n",
       "      <th>4</th>\n",
       "      <td>1</td>\n",
       "      <td>credit_card</td>\n",
       "      <td>0.1426</td>\n",
       "      <td>102.92</td>\n",
       "      <td>11.299732</td>\n",
       "      <td>14.97</td>\n",
       "      <td>667</td>\n",
       "      <td>4066.000000</td>\n",
       "      <td>4740</td>\n",
       "      <td>39.5</td>\n",
       "      <td>0</td>\n",
       "      <td>1</td>\n",
       "      <td>0</td>\n",
       "      <td>0</td>\n",
       "    </tr>\n",
       "  </tbody>\n",
       "</table>\n",
       "</div>"
      ],
      "text/plain": [
       "   credit.policy             purpose  int.rate  installment  log.annual.inc  \\\n",
       "0              1  debt_consolidation    0.1189       829.10       11.350407   \n",
       "1              1         credit_card    0.1071       228.22       11.082143   \n",
       "2              1  debt_consolidation    0.1357       366.86       10.373491   \n",
       "3              1  debt_consolidation    0.1008       162.34       11.350407   \n",
       "4              1         credit_card    0.1426       102.92       11.299732   \n",
       "\n",
       "     dti  fico  days.with.cr.line  revol.bal  revol.util  inq.last.6mths  \\\n",
       "0  19.48   737        5639.958333      28854        52.1               0   \n",
       "1  14.29   707        2760.000000      33623        76.7               0   \n",
       "2  11.63   682        4710.000000       3511        25.6               1   \n",
       "3   8.10   712        2699.958333      33667        73.2               1   \n",
       "4  14.97   667        4066.000000       4740        39.5               0   \n",
       "\n",
       "   delinq.2yrs  pub.rec  not.fully.paid  \n",
       "0            0        0               0  \n",
       "1            0        0               0  \n",
       "2            0        0               0  \n",
       "3            0        0               0  \n",
       "4            1        0               0  "
      ]
     },
     "execution_count": 4,
     "metadata": {},
     "output_type": "execute_result"
    }
   ],
   "source": [
    "# IMPORTING THE DATASET\n",
    "loan_df=pd.read_csv('loan_data.csv')\n",
    "loan_df.head()"
   ]
  },
  {
   "cell_type": "code",
   "execution_count": 5,
   "metadata": {},
   "outputs": [
    {
     "name": "stdout",
     "output_type": "stream",
     "text": [
      "<class 'pandas.core.frame.DataFrame'>\n",
      "RangeIndex: 9578 entries, 0 to 9577\n",
      "Data columns (total 14 columns):\n",
      " #   Column             Non-Null Count  Dtype  \n",
      "---  ------             --------------  -----  \n",
      " 0   credit.policy      9578 non-null   int64  \n",
      " 1   purpose            9578 non-null   object \n",
      " 2   int.rate           9578 non-null   float64\n",
      " 3   installment        9578 non-null   float64\n",
      " 4   log.annual.inc     9578 non-null   float64\n",
      " 5   dti                9578 non-null   float64\n",
      " 6   fico               9578 non-null   int64  \n",
      " 7   days.with.cr.line  9578 non-null   float64\n",
      " 8   revol.bal          9578 non-null   int64  \n",
      " 9   revol.util         9578 non-null   float64\n",
      " 10  inq.last.6mths     9578 non-null   int64  \n",
      " 11  delinq.2yrs        9578 non-null   int64  \n",
      " 12  pub.rec            9578 non-null   int64  \n",
      " 13  not.fully.paid     9578 non-null   int64  \n",
      "dtypes: float64(6), int64(7), object(1)\n",
      "memory usage: 1.0+ MB\n"
     ]
    }
   ],
   "source": [
    "# CHECKING THE DATA TYPES FOR THE DATASET\n",
    "loan_df.info()"
   ]
  },
  {
   "cell_type": "code",
   "execution_count": 10,
   "metadata": {},
   "outputs": [
    {
     "data": {
      "text/html": [
       "<div>\n",
       "<style scoped>\n",
       "    .dataframe tbody tr th:only-of-type {\n",
       "        vertical-align: middle;\n",
       "    }\n",
       "\n",
       "    .dataframe tbody tr th {\n",
       "        vertical-align: top;\n",
       "    }\n",
       "\n",
       "    .dataframe thead th {\n",
       "        text-align: right;\n",
       "    }\n",
       "</style>\n",
       "<table border=\"1\" class=\"dataframe\">\n",
       "  <thead>\n",
       "    <tr style=\"text-align: right;\">\n",
       "      <th></th>\n",
       "      <th>credit.policy</th>\n",
       "      <th>int.rate</th>\n",
       "      <th>installment</th>\n",
       "      <th>log.annual.inc</th>\n",
       "      <th>dti</th>\n",
       "      <th>fico</th>\n",
       "      <th>days.with.cr.line</th>\n",
       "      <th>revol.bal</th>\n",
       "      <th>revol.util</th>\n",
       "      <th>inq.last.6mths</th>\n",
       "      <th>delinq.2yrs</th>\n",
       "      <th>pub.rec</th>\n",
       "      <th>not.fully.paid</th>\n",
       "    </tr>\n",
       "  </thead>\n",
       "  <tbody>\n",
       "    <tr>\n",
       "      <th>count</th>\n",
       "      <td>9578.000000</td>\n",
       "      <td>9578.000000</td>\n",
       "      <td>9578.000000</td>\n",
       "      <td>9578.000000</td>\n",
       "      <td>9578.000000</td>\n",
       "      <td>9578.000000</td>\n",
       "      <td>9578.000000</td>\n",
       "      <td>9.578000e+03</td>\n",
       "      <td>9578.000000</td>\n",
       "      <td>9578.000000</td>\n",
       "      <td>9578.000000</td>\n",
       "      <td>9578.000000</td>\n",
       "      <td>9578.000000</td>\n",
       "    </tr>\n",
       "    <tr>\n",
       "      <th>mean</th>\n",
       "      <td>0.804970</td>\n",
       "      <td>0.122640</td>\n",
       "      <td>319.089413</td>\n",
       "      <td>10.932117</td>\n",
       "      <td>12.606679</td>\n",
       "      <td>710.846314</td>\n",
       "      <td>4560.767197</td>\n",
       "      <td>1.691396e+04</td>\n",
       "      <td>46.799236</td>\n",
       "      <td>1.577469</td>\n",
       "      <td>0.163708</td>\n",
       "      <td>0.062122</td>\n",
       "      <td>0.160054</td>\n",
       "    </tr>\n",
       "    <tr>\n",
       "      <th>std</th>\n",
       "      <td>0.396245</td>\n",
       "      <td>0.026847</td>\n",
       "      <td>207.071301</td>\n",
       "      <td>0.614813</td>\n",
       "      <td>6.883970</td>\n",
       "      <td>37.970537</td>\n",
       "      <td>2496.930377</td>\n",
       "      <td>3.375619e+04</td>\n",
       "      <td>29.014417</td>\n",
       "      <td>2.200245</td>\n",
       "      <td>0.546215</td>\n",
       "      <td>0.262126</td>\n",
       "      <td>0.366676</td>\n",
       "    </tr>\n",
       "    <tr>\n",
       "      <th>min</th>\n",
       "      <td>0.000000</td>\n",
       "      <td>0.060000</td>\n",
       "      <td>15.670000</td>\n",
       "      <td>7.547502</td>\n",
       "      <td>0.000000</td>\n",
       "      <td>612.000000</td>\n",
       "      <td>178.958333</td>\n",
       "      <td>0.000000e+00</td>\n",
       "      <td>0.000000</td>\n",
       "      <td>0.000000</td>\n",
       "      <td>0.000000</td>\n",
       "      <td>0.000000</td>\n",
       "      <td>0.000000</td>\n",
       "    </tr>\n",
       "    <tr>\n",
       "      <th>25%</th>\n",
       "      <td>1.000000</td>\n",
       "      <td>0.103900</td>\n",
       "      <td>163.770000</td>\n",
       "      <td>10.558414</td>\n",
       "      <td>7.212500</td>\n",
       "      <td>682.000000</td>\n",
       "      <td>2820.000000</td>\n",
       "      <td>3.187000e+03</td>\n",
       "      <td>22.600000</td>\n",
       "      <td>0.000000</td>\n",
       "      <td>0.000000</td>\n",
       "      <td>0.000000</td>\n",
       "      <td>0.000000</td>\n",
       "    </tr>\n",
       "    <tr>\n",
       "      <th>50%</th>\n",
       "      <td>1.000000</td>\n",
       "      <td>0.122100</td>\n",
       "      <td>268.950000</td>\n",
       "      <td>10.928884</td>\n",
       "      <td>12.665000</td>\n",
       "      <td>707.000000</td>\n",
       "      <td>4139.958333</td>\n",
       "      <td>8.596000e+03</td>\n",
       "      <td>46.300000</td>\n",
       "      <td>1.000000</td>\n",
       "      <td>0.000000</td>\n",
       "      <td>0.000000</td>\n",
       "      <td>0.000000</td>\n",
       "    </tr>\n",
       "    <tr>\n",
       "      <th>75%</th>\n",
       "      <td>1.000000</td>\n",
       "      <td>0.140700</td>\n",
       "      <td>432.762500</td>\n",
       "      <td>11.291293</td>\n",
       "      <td>17.950000</td>\n",
       "      <td>737.000000</td>\n",
       "      <td>5730.000000</td>\n",
       "      <td>1.824950e+04</td>\n",
       "      <td>70.900000</td>\n",
       "      <td>2.000000</td>\n",
       "      <td>0.000000</td>\n",
       "      <td>0.000000</td>\n",
       "      <td>0.000000</td>\n",
       "    </tr>\n",
       "    <tr>\n",
       "      <th>max</th>\n",
       "      <td>1.000000</td>\n",
       "      <td>0.216400</td>\n",
       "      <td>940.140000</td>\n",
       "      <td>14.528354</td>\n",
       "      <td>29.960000</td>\n",
       "      <td>827.000000</td>\n",
       "      <td>17639.958330</td>\n",
       "      <td>1.207359e+06</td>\n",
       "      <td>119.000000</td>\n",
       "      <td>33.000000</td>\n",
       "      <td>13.000000</td>\n",
       "      <td>5.000000</td>\n",
       "      <td>1.000000</td>\n",
       "    </tr>\n",
       "  </tbody>\n",
       "</table>\n",
       "</div>"
      ],
      "text/plain": [
       "       credit.policy     int.rate  installment  log.annual.inc          dti  \\\n",
       "count    9578.000000  9578.000000  9578.000000     9578.000000  9578.000000   \n",
       "mean        0.804970     0.122640   319.089413       10.932117    12.606679   \n",
       "std         0.396245     0.026847   207.071301        0.614813     6.883970   \n",
       "min         0.000000     0.060000    15.670000        7.547502     0.000000   \n",
       "25%         1.000000     0.103900   163.770000       10.558414     7.212500   \n",
       "50%         1.000000     0.122100   268.950000       10.928884    12.665000   \n",
       "75%         1.000000     0.140700   432.762500       11.291293    17.950000   \n",
       "max         1.000000     0.216400   940.140000       14.528354    29.960000   \n",
       "\n",
       "              fico  days.with.cr.line     revol.bal   revol.util  \\\n",
       "count  9578.000000        9578.000000  9.578000e+03  9578.000000   \n",
       "mean    710.846314        4560.767197  1.691396e+04    46.799236   \n",
       "std      37.970537        2496.930377  3.375619e+04    29.014417   \n",
       "min     612.000000         178.958333  0.000000e+00     0.000000   \n",
       "25%     682.000000        2820.000000  3.187000e+03    22.600000   \n",
       "50%     707.000000        4139.958333  8.596000e+03    46.300000   \n",
       "75%     737.000000        5730.000000  1.824950e+04    70.900000   \n",
       "max     827.000000       17639.958330  1.207359e+06   119.000000   \n",
       "\n",
       "       inq.last.6mths  delinq.2yrs      pub.rec  not.fully.paid  \n",
       "count     9578.000000  9578.000000  9578.000000     9578.000000  \n",
       "mean         1.577469     0.163708     0.062122        0.160054  \n",
       "std          2.200245     0.546215     0.262126        0.366676  \n",
       "min          0.000000     0.000000     0.000000        0.000000  \n",
       "25%          0.000000     0.000000     0.000000        0.000000  \n",
       "50%          1.000000     0.000000     0.000000        0.000000  \n",
       "75%          2.000000     0.000000     0.000000        0.000000  \n",
       "max         33.000000    13.000000     5.000000        1.000000  "
      ]
     },
     "execution_count": 10,
     "metadata": {},
     "output_type": "execute_result"
    }
   ],
   "source": [
    "# CHECKING THE SUMMARY OR STATISTICS OF THE FEATURES\n",
    "loan_df.describe()"
   ]
  },
  {
   "cell_type": "code",
   "execution_count": 13,
   "metadata": {},
   "outputs": [
    {
     "data": {
      "text/plain": [
       "credit.policy        0\n",
       "purpose              0\n",
       "int.rate             0\n",
       "installment          0\n",
       "log.annual.inc       0\n",
       "dti                  0\n",
       "fico                 0\n",
       "days.with.cr.line    0\n",
       "revol.bal            0\n",
       "revol.util           0\n",
       "inq.last.6mths       0\n",
       "delinq.2yrs          0\n",
       "pub.rec              0\n",
       "not.fully.paid       0\n",
       "dtype: int64"
      ]
     },
     "execution_count": 13,
     "metadata": {},
     "output_type": "execute_result"
    }
   ],
   "source": [
    "# CHECKING IF THERE IS ANY NULL VALUES PRESENT IN THE DATASET\n",
    "loan_df.isnull().sum()"
   ]
  },
  {
   "cell_type": "code",
   "execution_count": 24,
   "metadata": {},
   "outputs": [
    {
     "data": {
      "text/plain": [
       "<matplotlib.axes._subplots.AxesSubplot at 0x1a45258fd0>"
      ]
     },
     "execution_count": 24,
     "metadata": {},
     "output_type": "execute_result"
    },
    {
     "data": {
      "image/png": "[encoded data removed]",
      "text/plain": [
       "<Figure size 432x288 with 2 Axes>"
      ]
     },
     "metadata": {
      "needs_background": "light"
     },
     "output_type": "display_data"
    }
   ],
   "source": [
    "# CHECKING AND FINDING OUT THE RELEVANT FEATURES BASED ON CORRELATIONS\n",
    "sns.heatmap(loan_df.corr())"
   ]
  },
  {
   "cell_type": "code",
   "execution_count": 48,
   "metadata": {},
   "outputs": [
    {
     "name": "stdout",
     "output_type": "stream",
     "text": [
      "The Total Categories of loan are :\t7\n",
      "\n",
      " The names of the different loan Categories are :\n",
      " ['debt_consolidation' 'credit_card' 'all_other' 'home_improvement'\n",
      " 'small_business' 'major_purchase' 'educational']\n",
      "\n",
      " The total no of cases for each Categories are :\n",
      " debt_consolidation    3957\n",
      "all_other             2331\n",
      "credit_card           1262\n",
      "home_improvement       629\n",
      "small_business         619\n",
      "major_purchase         437\n",
      "educational            343\n",
      "Name: purpose, dtype: int64 \n"
     ]
    }
   ],
   "source": [
    "# CHECKING THE VARITIES OF LOAN PROVIDED BY THE BANK\n",
    "\n",
    "print('The Total Categories of loan are :\\t{}'.format(loan_df['purpose'].nunique()))\n",
    "\n",
    "print('\\n The names of the different loan Categories are :\\n {}'.format(loan_df['purpose'].unique()))\n",
    "\n",
    "print('\\n The total no of cases for each Categories are :\\n {} '.format(loan_df['purpose'].value_counts()))"
   ]
  },
  {
   "cell_type": "code",
   "execution_count": 53,
   "metadata": {},
   "outputs": [
    {
     "data": {
      "text/html": [
       "<div>\n",
       "<style scoped>\n",
       "    .dataframe tbody tr th:only-of-type {\n",
       "        vertical-align: middle;\n",
       "    }\n",
       "\n",
       "    .dataframe tbody tr th {\n",
       "        vertical-align: top;\n",
       "    }\n",
       "\n",
       "    .dataframe thead th {\n",
       "        text-align: right;\n",
       "    }\n",
       "</style>\n",
       "<table border=\"1\" class=\"dataframe\">\n",
       "  <thead>\n",
       "    <tr style=\"text-align: right;\">\n",
       "      <th></th>\n",
       "      <th>credit.policy</th>\n",
       "      <th>purpose</th>\n",
       "      <th>int.rate</th>\n",
       "      <th>installment</th>\n",
       "      <th>log.annual.inc</th>\n",
       "      <th>dti</th>\n",
       "      <th>fico</th>\n",
       "      <th>days.with.cr.line</th>\n",
       "      <th>revol.bal</th>\n",
       "      <th>revol.util</th>\n",
       "      <th>inq.last.6mths</th>\n",
       "      <th>delinq.2yrs</th>\n",
       "      <th>pub.rec</th>\n",
       "      <th>not.fully.paid</th>\n",
       "    </tr>\n",
       "  </thead>\n",
       "  <tbody>\n",
       "    <tr>\n",
       "      <th>0</th>\n",
       "      <td>1</td>\n",
       "      <td>2</td>\n",
       "      <td>0.1189</td>\n",
       "      <td>829.10</td>\n",
       "      <td>11.350407</td>\n",
       "      <td>19.48</td>\n",
       "      <td>737</td>\n",
       "      <td>5639.958333</td>\n",
       "      <td>28854</td>\n",
       "      <td>52.1</td>\n",
       "      <td>0</td>\n",
       "      <td>0</td>\n",
       "      <td>0</td>\n",
       "      <td>0</td>\n",
       "    </tr>\n",
       "    <tr>\n",
       "      <th>1</th>\n",
       "      <td>1</td>\n",
       "      <td>1</td>\n",
       "      <td>0.1071</td>\n",
       "      <td>228.22</td>\n",
       "      <td>11.082143</td>\n",
       "      <td>14.29</td>\n",
       "      <td>707</td>\n",
       "      <td>2760.000000</td>\n",
       "      <td>33623</td>\n",
       "      <td>76.7</td>\n",
       "      <td>0</td>\n",
       "      <td>0</td>\n",
       "      <td>0</td>\n",
       "      <td>0</td>\n",
       "    </tr>\n",
       "    <tr>\n",
       "      <th>2</th>\n",
       "      <td>1</td>\n",
       "      <td>2</td>\n",
       "      <td>0.1357</td>\n",
       "      <td>366.86</td>\n",
       "      <td>10.373491</td>\n",
       "      <td>11.63</td>\n",
       "      <td>682</td>\n",
       "      <td>4710.000000</td>\n",
       "      <td>3511</td>\n",
       "      <td>25.6</td>\n",
       "      <td>1</td>\n",
       "      <td>0</td>\n",
       "      <td>0</td>\n",
       "      <td>0</td>\n",
       "    </tr>\n",
       "    <tr>\n",
       "      <th>3</th>\n",
       "      <td>1</td>\n",
       "      <td>2</td>\n",
       "      <td>0.1008</td>\n",
       "      <td>162.34</td>\n",
       "      <td>11.350407</td>\n",
       "      <td>8.10</td>\n",
       "      <td>712</td>\n",
       "      <td>2699.958333</td>\n",
       "      <td>33667</td>\n",
       "      <td>73.2</td>\n",
       "      <td>1</td>\n",
       "      <td>0</td>\n",
       "      <td>0</td>\n",
       "      <td>0</td>\n",
       "    </tr>\n",
       "    <tr>\n",
       "      <th>4</th>\n",
       "      <td>1</td>\n",
       "      <td>1</td>\n",
       "      <td>0.1426</td>\n",
       "      <td>102.92</td>\n",
       "      <td>11.299732</td>\n",
       "      <td>14.97</td>\n",
       "      <td>667</td>\n",
       "      <td>4066.000000</td>\n",
       "      <td>4740</td>\n",
       "      <td>39.5</td>\n",
       "      <td>0</td>\n",
       "      <td>1</td>\n",
       "      <td>0</td>\n",
       "      <td>0</td>\n",
       "    </tr>\n",
       "  </tbody>\n",
       "</table>\n",
       "</div>"
      ],
      "text/plain": [
       "   credit.policy  purpose  int.rate  installment  log.annual.inc    dti  fico  \\\n",
       "0              1        2    0.1189       829.10       11.350407  19.48   737   \n",
       "1              1        1    0.1071       228.22       11.082143  14.29   707   \n",
       "2              1        2    0.1357       366.86       10.373491  11.63   682   \n",
       "3              1        2    0.1008       162.34       11.350407   8.10   712   \n",
       "4              1        1    0.1426       102.92       11.299732  14.97   667   \n",
       "\n",
       "   days.with.cr.line  revol.bal  revol.util  inq.last.6mths  delinq.2yrs  \\\n",
       "0        5639.958333      28854        52.1               0            0   \n",
       "1        2760.000000      33623        76.7               0            0   \n",
       "2        4710.000000       3511        25.6               1            0   \n",
       "3        2699.958333      33667        73.2               1            0   \n",
       "4        4066.000000       4740        39.5               0            1   \n",
       "\n",
       "   pub.rec  not.fully.paid  \n",
       "0        0               0  \n",
       "1        0               0  \n",
       "2        0               0  \n",
       "3        0               0  \n",
       "4        0               0  "
      ]
     },
     "execution_count": 53,
     "metadata": {},
     "output_type": "execute_result"
    }
   ],
   "source": [
    "# REDUCING THE DIMENSION OF THE CATEGORICAL VALUE AND CHANGING IT TO NUMERICAL USING LABEL ENCODER\n",
    "from sklearn import preprocessing\n",
    "le=preprocessing.LabelEncoder()\n",
    "le.fit(loan_df['purpose'])\n",
    "le.transform(loan_df['purpose'])\n",
    "le.classes_\n",
    "loan_df['purpose']=le.fit_transform(loan_df['purpose'])\n",
    "loan_df.head()"
   ]
  },
  {
   "cell_type": "code",
   "execution_count": 54,
   "metadata": {},
   "outputs": [
    {
     "name": "stdout",
     "output_type": "stream",
     "text": [
      "<class 'pandas.core.frame.DataFrame'>\n",
      "RangeIndex: 9578 entries, 0 to 9577\n",
      "Data columns (total 14 columns):\n",
      " #   Column             Non-Null Count  Dtype  \n",
      "---  ------             --------------  -----  \n",
      " 0   credit.policy      9578 non-null   int64  \n",
      " 1   purpose            9578 non-null   int64  \n",
      " 2   int.rate           9578 non-null   float64\n",
      " 3   installment        9578 non-null   float64\n",
      " 4   log.annual.inc     9578 non-null   float64\n",
      " 5   dti                9578 non-null   float64\n",
      " 6   fico               9578 non-null   int64  \n",
      " 7   days.with.cr.line  9578 non-null   float64\n",
      " 8   revol.bal          9578 non-null   int64  \n",
      " 9   revol.util         9578 non-null   float64\n",
      " 10  inq.last.6mths     9578 non-null   int64  \n",
      " 11  delinq.2yrs        9578 non-null   int64  \n",
      " 12  pub.rec            9578 non-null   int64  \n",
      " 13  not.fully.paid     9578 non-null   int64  \n",
      "dtypes: float64(6), int64(8)\n",
      "memory usage: 1.0 MB\n"
     ]
    }
   ],
   "source": [
    "# AFTER THE LABEL ENCODER IS APPLIED SUCCESSFULLY CHECKING THE DATATYPES OF THE ORIGINAL DATASET\n",
    "loan_df.info()"
   ]
  },
  {
   "cell_type": "code",
   "execution_count": 55,
   "metadata": {},
   "outputs": [
    {
     "data": {
      "text/plain": [
       "(9578, 14)"
      ]
     },
     "execution_count": 55,
     "metadata": {},
     "output_type": "execute_result"
    }
   ],
   "source": [
    "#CHECKING THE SHAPE OF THE DATA SET\n",
    "loan_df.shape"
   ]
  },
  {
   "cell_type": "code",
   "execution_count": 57,
   "metadata": {},
   "outputs": [
    {
     "data": {
      "text/plain": [
       "<matplotlib.axes._subplots.AxesSubplot at 0x1a45ad1e50>"
      ]
     },
     "execution_count": 57,
     "metadata": {},
     "output_type": "execute_result"
    },
    {
     "data": {
      "image/png": "[encoded data removed]",
      "text/plain": [
       "<Figure size 432x288 with 1 Axes>"
      ]
     },
     "metadata": {
      "needs_background": "light"
     },
     "output_type": "display_data"
    }
   ],
   "source": [
    "# CHECKING DIFFERENT VARAIBLES AND HOW THEY ARE AFFECTING THE FEATURE 'NOT FULLY PAID'\n",
    "sns.violinplot(y='log.annual.inc',hue='not.fully.paid',data=loan_df)"
   ]
  },
  {
   "cell_type": "code",
   "execution_count": 58,
   "metadata": {},
   "outputs": [
    {
     "data": {
      "text/plain": [
       "<matplotlib.axes._subplots.AxesSubplot at 0x1a45eb19d0>"
      ]
     },
     "execution_count": 58,
     "metadata": {},
     "output_type": "execute_result"
    },
    {
     "data": {
      "image/png": "[encoded data removed]",
      "text/plain": [
       "<Figure size 432x288 with 1 Axes>"
      ]
     },
     "metadata": {
      "needs_background": "light"
     },
     "output_type": "display_data"
    }
   ],
   "source": [
    "sns.violinplot(y='dti',hue='not.fully.paid',data=loan_df)"
   ]
  },
  {
   "cell_type": "code",
   "execution_count": 62,
   "metadata": {},
   "outputs": [
    {
     "data": {
      "text/plain": [
       "<matplotlib.axes._subplots.AxesSubplot at 0x1a46a1b750>"
      ]
     },
     "execution_count": 62,
     "metadata": {},
     "output_type": "execute_result"
    },
    {
     "data": {
      "image/png": "[encoded data removed]",
      "text/plain": [
       "<Figure size 720x576 with 1 Axes>"
      ]
     },
     "metadata": {},
     "output_type": "display_data"
    }
   ],
   "source": [
    "sns.set(rc={\"figure.figsize\":(10,8)})\n",
    "sns.countplot(data=loan_df,x='purpose',hue='not.fully.paid')\n"
   ]
  },
  {
   "cell_type": "code",
   "execution_count": 63,
   "metadata": {},
   "outputs": [
    {
     "data": {
      "text/plain": [
       "<matplotlib.axes._subplots.AxesSubplot at 0x1a466d6a10>"
      ]
     },
     "execution_count": 63,
     "metadata": {},
     "output_type": "execute_result"
    },
    {
     "data": {
      "image/png": "[encoded data removed]",
      "text/plain": [
       "<Figure size 720x576 with 1 Axes>"
      ]
     },
     "metadata": {},
     "output_type": "display_data"
    }
   ],
   "source": [
    "sns.violinplot(y=\"inq.last.6mths\",hue='not.fully.paid',data=loan_df)"
   ]
  },
  {
   "cell_type": "code",
   "execution_count": 65,
   "metadata": {},
   "outputs": [
    {
     "data": {
      "text/plain": [
       "<matplotlib.axes._subplots.AxesSubplot at 0x1a467a19d0>"
      ]
     },
     "execution_count": 65,
     "metadata": {},
     "output_type": "execute_result"
    },
    {
     "data": {
      "image/png": "[encoded data removed]",
      "text/plain": [
       "<Figure size 720x576 with 1 Axes>"
      ]
     },
     "metadata": {},
     "output_type": "display_data"
    }
   ],
   "source": [
    "sns.violinplot(y='fico',hue='not.fully.paid',data=loan_df)"
   ]
  },
  {
   "cell_type": "code",
   "execution_count": 66,
   "metadata": {},
   "outputs": [
    {
     "data": {
      "text/plain": [
       "<matplotlib.axes._subplots.AxesSubplot at 0x1a469e4ad0>"
      ]
     },
     "execution_count": 66,
     "metadata": {},
     "output_type": "execute_result"
    },
    {
     "data": {
      "image/png": "[encoded data removed]",
      "text/plain": [
       "<Figure size 720x576 with 1 Axes>"
      ]
     },
     "metadata": {},
     "output_type": "display_data"
    }
   ],
   "source": [
    "sns.countplot(x='pub.rec',hue='not.fully.paid',data=loan_df)"
   ]
  },
  {
   "cell_type": "code",
   "execution_count": 77,
   "metadata": {},
   "outputs": [
    {
     "data": {
      "text/plain": [
       "(9578, 18)"
      ]
     },
     "execution_count": 77,
     "metadata": {},
     "output_type": "execute_result"
    }
   ],
   "source": [
    "#IMPORTING THE INPUT DATA FOR THE ARTIFICIAL NEURAL NETWORK AND CHANGING ITS DATATYPE TO FLOAS32\n",
    "input_matrix=np.loadtxt('input.csv',delimiter=',',ndmin=2).astype('float32')\n",
    "input_matrix.shape"
   ]
  },
  {
   "cell_type": "code",
   "execution_count": 78,
   "metadata": {},
   "outputs": [
    {
     "data": {
      "text/plain": [
       "numpy.float32"
      ]
     },
     "execution_count": 78,
     "metadata": {},
     "output_type": "execute_result"
    }
   ],
   "source": [
    "# VALIDATIING THE CHANGE\n",
    "type(input_matrix[0][0])"
   ]
  },
  {
   "cell_type": "code",
   "execution_count": 81,
   "metadata": {},
   "outputs": [
    {
     "data": {
      "text/plain": [
       "(9578, 2)"
      ]
     },
     "execution_count": 81,
     "metadata": {},
     "output_type": "execute_result"
    }
   ],
   "source": [
    "# IMPORTING THE TARGET DATA FOR THE ARTIFICAL NEURAL NETWORK AND CHANGING ITS DATATYPE TO FLOAT32\n",
    "label=np.loadtxt('output.csv',delimiter=',',ndmin=2).astype('float32')\n",
    "label.shape"
   ]
  },
  {
   "cell_type": "code",
   "execution_count": 83,
   "metadata": {},
   "outputs": [
    {
     "data": {
      "text/plain": [
       "numpy.float32"
      ]
     },
     "execution_count": 83,
     "metadata": {},
     "output_type": "execute_result"
    }
   ],
   "source": [
    "#VALIDATING IT\n",
    "type(label[0][0])"
   ]
  },
  {
   "cell_type": "code",
   "execution_count": 84,
   "metadata": {},
   "outputs": [],
   "source": [
    "from math import floor,ceil"
   ]
  },
  {
   "cell_type": "markdown",
   "metadata": {},
   "source": [
    "# Splitting Data into training and testing"
   ]
  },
  {
   "cell_type": "code",
   "execution_count": 86,
   "metadata": {},
   "outputs": [],
   "source": [
    "# SPLITTING THE DATA INTO TRAIN TEST\n",
    "train_size=0.75\n",
    "train_cnt=floor(input_matrix.shape[0]*train_size)\n",
    "x_train=input_matrix[0:train_cnt]\n",
    "y_train=label[0:train_cnt]\n",
    "x_test=input_matrix[train_cnt:]\n",
    "y_test=label[train_cnt:]"
   ]
  },
  {
   "cell_type": "code",
   "execution_count": 87,
   "metadata": {},
   "outputs": [
    {
     "data": {
      "text/plain": [
       "(7183, 18)"
      ]
     },
     "execution_count": 87,
     "metadata": {},
     "output_type": "execute_result"
    }
   ],
   "source": [
    "x_train.shape"
   ]
  },
  {
   "cell_type": "code",
   "execution_count": 88,
   "metadata": {},
   "outputs": [
    {
     "data": {
      "text/plain": [
       "(7183, 2)"
      ]
     },
     "execution_count": 88,
     "metadata": {},
     "output_type": "execute_result"
    }
   ],
   "source": [
    "y_train.shape"
   ]
  },
  {
   "cell_type": "code",
   "execution_count": 89,
   "metadata": {},
   "outputs": [
    {
     "data": {
      "text/plain": [
       "array([[0., 1.],\n",
       "       [0., 1.],\n",
       "       [0., 1.],\n",
       "       ...,\n",
       "       [0., 1.],\n",
       "       [0., 1.],\n",
       "       [0., 1.]], dtype=float32)"
      ]
     },
     "execution_count": 89,
     "metadata": {},
     "output_type": "execute_result"
    }
   ],
   "source": [
    "y_test"
   ]
  },
  {
   "cell_type": "code",
   "execution_count": 103,
   "metadata": {},
   "outputs": [
    {
     "name": "stdout",
     "output_type": "stream",
     "text": [
      "Model: \"sequential_10\"\n",
      "_________________________________________________________________\n",
      "Layer (type)                 Output Shape              Param #   \n",
      "=================================================================\n",
      "dense_15 (Dense)             (None, 100)               1900      \n",
      "_________________________________________________________________\n",
      "batch_normalization_6 (Batch (None, 100)               400       \n",
      "_________________________________________________________________\n",
      "dropout_8 (Dropout)          (None, 100)               0         \n",
      "_________________________________________________________________\n",
      "dense_16 (Dense)             (None, 150)               15150     \n",
      "_________________________________________________________________\n",
      "dropout_9 (Dropout)          (None, 150)               0         \n",
      "_________________________________________________________________\n",
      "dense_17 (Dense)             (None, 20)                3020      \n",
      "_________________________________________________________________\n",
      "dense_18 (Dense)             (None, 2)                 42        \n",
      "=================================================================\n",
      "Total params: 20,512\n",
      "Trainable params: 20,312\n",
      "Non-trainable params: 200\n",
      "_________________________________________________________________\n"
     ]
    }
   ],
   "source": [
    "#BUILDING THE MODEL USING SIMPLE ANN\n",
    "model=Sequential()\n",
    "model.add(Dense(100,input_dim=18,activation='relu',kernel_initializer='glorot_uniform'))\n",
    "model.add(BatchNormalization())\n",
    "model.add(Dropout(0.5))\n",
    "model.add(Dense(150,activation='relu'))\n",
    "model.add(Dropout(0.3))\n",
    "model.add(Dense(20,activation='sigmoid',kernel_regularizer=regularizers.l2(0.01)))\n",
    "\n",
    "model.add(Dense(2,activation='sigmoid'))\n",
    "model.summary()"
   ]
  },
  {
   "cell_type": "code",
   "execution_count": 106,
   "metadata": {},
   "outputs": [],
   "source": [
    "#CHANGING THE OPTMIZER PARAMETERS AND COMPILING THE MODEL\n",
    "sgd=SGD(lr=0.01,momentum=0.9)\n",
    "model.compile(optimizer=sgd,loss='binary_crossentropy',metrics=['accuracy'])"
   ]
  },
  {
   "cell_type": "code",
   "execution_count": 111,
   "metadata": {},
   "outputs": [
    {
     "name": "stdout",
     "output_type": "stream",
     "text": [
      "Train on 7183 samples, validate on 2395 samples\n",
      "Epoch 1/200\n",
      "7183/7183 [==============================] - 0s 19us/step - loss: 0.2354 - accuracy: 0.9347\n",
      "Epoch 2/200\n",
      "7183/7183 [==============================] - 0s 16us/step - loss: 0.2362 - accuracy: 0.9347\n",
      "Epoch 3/200\n",
      "7183/7183 [==============================] - 0s 15us/step - loss: 0.2356 - accuracy: 0.9347\n",
      "Epoch 4/200\n",
      "7183/7183 [==============================] - 0s 15us/step - loss: 0.2347 - accuracy: 0.9347\n",
      "Epoch 5/200\n",
      "7183/7183 [==============================] - 0s 17us/step - loss: 0.2362 - accuracy: 0.9347 - val_loss: 0.2482 - val_accuracy: 0.9177\n",
      "Epoch 6/200\n",
      "7183/7183 [==============================] - 0s 15us/step - loss: 0.2359 - accuracy: 0.9347\n",
      "Epoch 7/200\n",
      "7183/7183 [==============================] - 0s 15us/step - loss: 0.2355 - accuracy: 0.9347\n",
      "Epoch 8/200\n",
      "7183/7183 [==============================] - 0s 16us/step - loss: 0.2355 - accuracy: 0.9347\n",
      "Epoch 9/200\n",
      "7183/7183 [==============================] - 0s 16us/step - loss: 0.2355 - accuracy: 0.9347\n",
      "Epoch 10/200\n",
      "7183/7183 [==============================] - 0s 23us/step - loss: 0.2337 - accuracy: 0.9347 - val_loss: 0.2484 - val_accuracy: 0.9215\n",
      "Epoch 11/200\n",
      "7183/7183 [==============================] - 0s 20us/step - loss: 0.2365 - accuracy: 0.9347\n",
      "Epoch 12/200\n",
      "7183/7183 [==============================] - 0s 14us/step - loss: 0.2367 - accuracy: 0.9347\n",
      "Epoch 13/200\n",
      "7183/7183 [==============================] - 0s 13us/step - loss: 0.2351 - accuracy: 0.9347\n",
      "Epoch 14/200\n",
      "7183/7183 [==============================] - 0s 14us/step - loss: 0.2352 - accuracy: 0.9347\n",
      "Epoch 15/200\n",
      "7183/7183 [==============================] - 0s 21us/step - loss: 0.2364 - accuracy: 0.9347 - val_loss: 0.2468 - val_accuracy: 0.9211\n",
      "Epoch 16/200\n",
      "7183/7183 [==============================] - 0s 17us/step - loss: 0.2363 - accuracy: 0.9347\n",
      "Epoch 17/200\n",
      "7183/7183 [==============================] - 0s 15us/step - loss: 0.2357 - accuracy: 0.9347\n",
      "Epoch 18/200\n",
      "7183/7183 [==============================] - 0s 16us/step - loss: 0.2346 - accuracy: 0.9347\n",
      "Epoch 19/200\n",
      "7183/7183 [==============================] - 0s 16us/step - loss: 0.2356 - accuracy: 0.9347\n",
      "Epoch 20/200\n",
      "7183/7183 [==============================] - 0s 17us/step - loss: 0.2349 - accuracy: 0.9347 - val_loss: 0.2464 - val_accuracy: 0.9205\n",
      "Epoch 21/200\n",
      "7183/7183 [==============================] - 0s 12us/step - loss: 0.2352 - accuracy: 0.9347\n",
      "Epoch 22/200\n",
      "7183/7183 [==============================] - 0s 13us/step - loss: 0.2345 - accuracy: 0.9347\n",
      "Epoch 23/200\n",
      "7183/7183 [==============================] - 0s 13us/step - loss: 0.2353 - accuracy: 0.9347\n",
      "Epoch 24/200\n",
      "7183/7183 [==============================] - 0s 15us/step - loss: 0.2349 - accuracy: 0.9347\n",
      "Epoch 25/200\n",
      "7183/7183 [==============================] - 0s 15us/step - loss: 0.2349 - accuracy: 0.9347 - val_loss: 0.2484 - val_accuracy: 0.9200\n",
      "Epoch 26/200\n",
      "7183/7183 [==============================] - 0s 15us/step - loss: 0.2351 - accuracy: 0.9347\n",
      "Epoch 27/200\n",
      "7183/7183 [==============================] - 0s 15us/step - loss: 0.2353 - accuracy: 0.9347\n",
      "Epoch 28/200\n",
      "7183/7183 [==============================] - 0s 14us/step - loss: 0.2357 - accuracy: 0.9347\n",
      "Epoch 29/200\n",
      "7183/7183 [==============================] - 0s 14us/step - loss: 0.2338 - accuracy: 0.9347\n",
      "Epoch 30/200\n",
      "7183/7183 [==============================] - 0s 15us/step - loss: 0.2351 - accuracy: 0.9347 - val_loss: 0.2462 - val_accuracy: 0.9207\n",
      "Epoch 31/200\n",
      "7183/7183 [==============================] - 0s 13us/step - loss: 0.2353 - accuracy: 0.9347\n",
      "Epoch 32/200\n",
      "7183/7183 [==============================] - 0s 14us/step - loss: 0.2350 - accuracy: 0.9347\n",
      "Epoch 33/200\n",
      "7183/7183 [==============================] - 0s 13us/step - loss: 0.2344 - accuracy: 0.9347\n",
      "Epoch 34/200\n",
      "7183/7183 [==============================] - 0s 14us/step - loss: 0.2365 - accuracy: 0.9347\n",
      "Epoch 35/200\n",
      "7183/7183 [==============================] - 0s 16us/step - loss: 0.2356 - accuracy: 0.9347 - val_loss: 0.2472 - val_accuracy: 0.9171\n",
      "Epoch 36/200\n",
      "7183/7183 [==============================] - 0s 16us/step - loss: 0.2350 - accuracy: 0.9347\n",
      "Epoch 37/200\n",
      "7183/7183 [==============================] - 0s 20us/step - loss: 0.2345 - accuracy: 0.9347\n",
      "Epoch 38/200\n",
      "7183/7183 [==============================] - 0s 21us/step - loss: 0.2348 - accuracy: 0.9347\n",
      "Epoch 39/200\n",
      "7183/7183 [==============================] - 0s 13us/step - loss: 0.2367 - accuracy: 0.9347\n",
      "Epoch 40/200\n",
      "7183/7183 [==============================] - 0s 15us/step - loss: 0.2361 - accuracy: 0.9347 - val_loss: 0.2493 - val_accuracy: 0.9205\n",
      "Epoch 41/200\n",
      "7183/7183 [==============================] - 0s 13us/step - loss: 0.2354 - accuracy: 0.9347\n",
      "Epoch 42/200\n",
      "7183/7183 [==============================] - 0s 12us/step - loss: 0.2347 - accuracy: 0.9347\n",
      "Epoch 43/200\n",
      "7183/7183 [==============================] - 0s 15us/step - loss: 0.2361 - accuracy: 0.9347\n",
      "Epoch 44/200\n",
      "7183/7183 [==============================] - 0s 16us/step - loss: 0.2337 - accuracy: 0.9347\n",
      "Epoch 45/200\n",
      "7183/7183 [==============================] - 0s 16us/step - loss: 0.2366 - accuracy: 0.9347 - val_loss: 0.2466 - val_accuracy: 0.9244\n",
      "Epoch 46/200\n",
      "7183/7183 [==============================] - 0s 13us/step - loss: 0.2355 - accuracy: 0.9347\n",
      "Epoch 47/200\n",
      "7183/7183 [==============================] - 0s 14us/step - loss: 0.2344 - accuracy: 0.9347\n",
      "Epoch 48/200\n",
      "7183/7183 [==============================] - 0s 16us/step - loss: 0.2354 - accuracy: 0.9347\n",
      "Epoch 49/200\n",
      "7183/7183 [==============================] - 0s 15us/step - loss: 0.2352 - accuracy: 0.9347\n",
      "Epoch 50/200\n",
      "7183/7183 [==============================] - 0s 15us/step - loss: 0.2347 - accuracy: 0.9347 - val_loss: 0.2470 - val_accuracy: 0.9251\n",
      "Epoch 51/200\n",
      "7183/7183 [==============================] - 0s 13us/step - loss: 0.2343 - accuracy: 0.9347\n",
      "Epoch 52/200\n",
      "7183/7183 [==============================] - 0s 13us/step - loss: 0.2352 - accuracy: 0.9347\n",
      "Epoch 53/200\n",
      "7183/7183 [==============================] - 0s 13us/step - loss: 0.2347 - accuracy: 0.9347\n",
      "Epoch 54/200\n",
      "7183/7183 [==============================] - 0s 13us/step - loss: 0.2352 - accuracy: 0.9347\n",
      "Epoch 55/200\n",
      "7183/7183 [==============================] - 0s 15us/step - loss: 0.2351 - accuracy: 0.9347 - val_loss: 0.2499 - val_accuracy: 0.9257\n",
      "Epoch 56/200\n",
      "7183/7183 [==============================] - 0s 14us/step - loss: 0.2352 - accuracy: 0.9347\n",
      "Epoch 57/200\n",
      "7183/7183 [==============================] - 0s 17us/step - loss: 0.2357 - accuracy: 0.9347\n",
      "Epoch 58/200\n",
      "7183/7183 [==============================] - 0s 13us/step - loss: 0.2359 - accuracy: 0.9347\n",
      "Epoch 59/200\n",
      "7183/7183 [==============================] - 0s 14us/step - loss: 0.2360 - accuracy: 0.9347\n",
      "Epoch 60/200\n",
      "7183/7183 [==============================] - 0s 17us/step - loss: 0.2343 - accuracy: 0.9347 - val_loss: 0.2484 - val_accuracy: 0.9213\n",
      "Epoch 61/200\n",
      "7183/7183 [==============================] - 0s 12us/step - loss: 0.2338 - accuracy: 0.9347\n",
      "Epoch 62/200\n",
      "7183/7183 [==============================] - 0s 14us/step - loss: 0.2341 - accuracy: 0.9347\n",
      "Epoch 63/200\n",
      "7183/7183 [==============================] - 0s 13us/step - loss: 0.2350 - accuracy: 0.9347\n",
      "Epoch 64/200\n",
      "7183/7183 [==============================] - 0s 13us/step - loss: 0.2344 - accuracy: 0.9347\n",
      "Epoch 65/200\n",
      "7183/7183 [==============================] - 0s 15us/step - loss: 0.2348 - accuracy: 0.9347 - val_loss: 0.2459 - val_accuracy: 0.9263\n",
      "Epoch 66/200\n",
      "7183/7183 [==============================] - 0s 12us/step - loss: 0.2354 - accuracy: 0.9347\n",
      "Epoch 67/200\n",
      "7183/7183 [==============================] - 0s 13us/step - loss: 0.2358 - accuracy: 0.9347\n",
      "Epoch 68/200\n",
      "7183/7183 [==============================] - 0s 14us/step - loss: 0.2355 - accuracy: 0.9347\n",
      "Epoch 69/200\n",
      "7183/7183 [==============================] - 0s 13us/step - loss: 0.2362 - accuracy: 0.9347\n",
      "Epoch 70/200\n",
      "7183/7183 [==============================] - 0s 16us/step - loss: 0.2359 - accuracy: 0.9347 - val_loss: 0.2500 - val_accuracy: 0.9196\n",
      "Epoch 71/200\n",
      "7183/7183 [==============================] - 0s 13us/step - loss: 0.2350 - accuracy: 0.9347\n",
      "Epoch 72/200\n",
      "7183/7183 [==============================] - 0s 13us/step - loss: 0.2354 - accuracy: 0.9347\n",
      "Epoch 73/200\n"
     ]
    },
    {
     "name": "stdout",
     "output_type": "stream",
     "text": [
      "7183/7183 [==============================] - 0s 15us/step - loss: 0.2352 - accuracy: 0.9347\n",
      "Epoch 74/200\n",
      "7183/7183 [==============================] - 0s 12us/step - loss: 0.2354 - accuracy: 0.9347\n",
      "Epoch 75/200\n",
      "7183/7183 [==============================] - 0s 14us/step - loss: 0.2345 - accuracy: 0.9347 - val_loss: 0.2505 - val_accuracy: 0.9167\n",
      "Epoch 76/200\n",
      "7183/7183 [==============================] - 0s 11us/step - loss: 0.2346 - accuracy: 0.9347\n",
      "Epoch 77/200\n",
      "7183/7183 [==============================] - 0s 13us/step - loss: 0.2342 - accuracy: 0.9346\n",
      "Epoch 78/200\n",
      "7183/7183 [==============================] - 0s 12us/step - loss: 0.2353 - accuracy: 0.9347\n",
      "Epoch 79/200\n",
      "7183/7183 [==============================] - 0s 12us/step - loss: 0.2337 - accuracy: 0.9347\n",
      "Epoch 80/200\n",
      "7183/7183 [==============================] - 0s 13us/step - loss: 0.2349 - accuracy: 0.9347 - val_loss: 0.2496 - val_accuracy: 0.9167\n",
      "Epoch 81/200\n",
      "7183/7183 [==============================] - 0s 12us/step - loss: 0.2342 - accuracy: 0.9347\n",
      "Epoch 82/200\n",
      "7183/7183 [==============================] - 0s 12us/step - loss: 0.2334 - accuracy: 0.9347\n",
      "Epoch 83/200\n",
      "7183/7183 [==============================] - 0s 12us/step - loss: 0.2346 - accuracy: 0.9347\n",
      "Epoch 84/200\n",
      "7183/7183 [==============================] - 0s 12us/step - loss: 0.2359 - accuracy: 0.9347\n",
      "Epoch 85/200\n",
      "7183/7183 [==============================] - 0s 14us/step - loss: 0.2353 - accuracy: 0.9347 - val_loss: 0.2506 - val_accuracy: 0.9167\n",
      "Epoch 86/200\n",
      "7183/7183 [==============================] - 0s 12us/step - loss: 0.2351 - accuracy: 0.9347\n",
      "Epoch 87/200\n",
      "7183/7183 [==============================] - 0s 13us/step - loss: 0.2349 - accuracy: 0.9347\n",
      "Epoch 88/200\n",
      "7183/7183 [==============================] - 0s 12us/step - loss: 0.2361 - accuracy: 0.9347\n",
      "Epoch 89/200\n",
      "7183/7183 [==============================] - 0s 12us/step - loss: 0.2364 - accuracy: 0.9347\n",
      "Epoch 90/200\n",
      "7183/7183 [==============================] - 0s 14us/step - loss: 0.2348 - accuracy: 0.9347 - val_loss: 0.2529 - val_accuracy: 0.9157\n",
      "Epoch 91/200\n",
      "7183/7183 [==============================] - 0s 13us/step - loss: 0.2368 - accuracy: 0.9347\n",
      "Epoch 92/200\n",
      "7183/7183 [==============================] - 0s 13us/step - loss: 0.2354 - accuracy: 0.9347\n",
      "Epoch 93/200\n",
      "7183/7183 [==============================] - 0s 13us/step - loss: 0.2360 - accuracy: 0.9347\n",
      "Epoch 94/200\n",
      "7183/7183 [==============================] - 0s 12us/step - loss: 0.2364 - accuracy: 0.9347\n",
      "Epoch 95/200\n",
      "7183/7183 [==============================] - 0s 14us/step - loss: 0.2349 - accuracy: 0.9347 - val_loss: 0.2515 - val_accuracy: 0.9163\n",
      "Epoch 96/200\n",
      "7183/7183 [==============================] - 0s 11us/step - loss: 0.2353 - accuracy: 0.9347\n",
      "Epoch 97/200\n",
      "7183/7183 [==============================] - 0s 12us/step - loss: 0.2356 - accuracy: 0.9347\n",
      "Epoch 98/200\n",
      "7183/7183 [==============================] - 0s 12us/step - loss: 0.2358 - accuracy: 0.9347\n",
      "Epoch 99/200\n",
      "7183/7183 [==============================] - 0s 12us/step - loss: 0.2338 - accuracy: 0.9347\n",
      "Epoch 100/200\n",
      "7183/7183 [==============================] - 0s 14us/step - loss: 0.2351 - accuracy: 0.9347 - val_loss: 0.2515 - val_accuracy: 0.9159\n",
      "Epoch 101/200\n",
      "7183/7183 [==============================] - 0s 12us/step - loss: 0.2346 - accuracy: 0.9347\n",
      "Epoch 102/200\n",
      "7183/7183 [==============================] - 0s 13us/step - loss: 0.2354 - accuracy: 0.9347\n",
      "Epoch 103/200\n",
      "7183/7183 [==============================] - 0s 12us/step - loss: 0.2352 - accuracy: 0.9347\n",
      "Epoch 104/200\n",
      "7183/7183 [==============================] - 0s 13us/step - loss: 0.2355 - accuracy: 0.9347\n",
      "Epoch 105/200\n",
      "7183/7183 [==============================] - 0s 24us/step - loss: 0.2347 - accuracy: 0.9347 - val_loss: 0.2503 - val_accuracy: 0.9157\n",
      "Epoch 106/200\n",
      "7183/7183 [==============================] - 0s 16us/step - loss: 0.2351 - accuracy: 0.9347\n",
      "Epoch 107/200\n",
      "7183/7183 [==============================] - 0s 14us/step - loss: 0.2333 - accuracy: 0.9347\n",
      "Epoch 108/200\n",
      "7183/7183 [==============================] - 0s 12us/step - loss: 0.2364 - accuracy: 0.9347\n",
      "Epoch 109/200\n",
      "7183/7183 [==============================] - 0s 14us/step - loss: 0.2350 - accuracy: 0.9347\n",
      "Epoch 110/200\n",
      "7183/7183 [==============================] - 0s 21us/step - loss: 0.2351 - accuracy: 0.9347 - val_loss: 0.2499 - val_accuracy: 0.9161\n",
      "Epoch 111/200\n",
      "7183/7183 [==============================] - 0s 15us/step - loss: 0.2335 - accuracy: 0.9347\n",
      "Epoch 112/200\n",
      "7183/7183 [==============================] - 0s 14us/step - loss: 0.2356 - accuracy: 0.9347\n",
      "Epoch 113/200\n",
      "7183/7183 [==============================] - 0s 15us/step - loss: 0.2341 - accuracy: 0.9347\n",
      "Epoch 114/200\n",
      "7183/7183 [==============================] - 0s 15us/step - loss: 0.2347 - accuracy: 0.9347\n",
      "Epoch 115/200\n",
      "7183/7183 [==============================] - 0s 17us/step - loss: 0.2352 - accuracy: 0.9347 - val_loss: 0.2521 - val_accuracy: 0.9167\n",
      "Epoch 116/200\n",
      "7183/7183 [==============================] - 0s 14us/step - loss: 0.2359 - accuracy: 0.9347\n",
      "Epoch 117/200\n",
      "7183/7183 [==============================] - 0s 14us/step - loss: 0.2345 - accuracy: 0.9347\n",
      "Epoch 118/200\n",
      "7183/7183 [==============================] - 0s 14us/step - loss: 0.2349 - accuracy: 0.9347\n",
      "Epoch 119/200\n",
      "7183/7183 [==============================] - 0s 13us/step - loss: 0.2357 - accuracy: 0.9347\n",
      "Epoch 120/200\n",
      "7183/7183 [==============================] - 0s 14us/step - loss: 0.2356 - accuracy: 0.9347 - val_loss: 0.2514 - val_accuracy: 0.9163\n",
      "Epoch 121/200\n",
      "7183/7183 [==============================] - 0s 12us/step - loss: 0.2340 - accuracy: 0.9347\n",
      "Epoch 122/200\n",
      "7183/7183 [==============================] - 0s 15us/step - loss: 0.2334 - accuracy: 0.9347\n",
      "Epoch 123/200\n",
      "7183/7183 [==============================] - ETA: 0s - loss: 0.2223 - accuracy: 0.93 - 0s 14us/step - loss: 0.2345 - accuracy: 0.9347\n",
      "Epoch 124/200\n",
      "7183/7183 [==============================] - 0s 14us/step - loss: 0.2342 - accuracy: 0.9347\n",
      "Epoch 125/200\n",
      "7183/7183 [==============================] - 0s 15us/step - loss: 0.2333 - accuracy: 0.9347 - val_loss: 0.2511 - val_accuracy: 0.9157\n",
      "Epoch 126/200\n",
      "7183/7183 [==============================] - 0s 15us/step - loss: 0.2348 - accuracy: 0.9347\n",
      "Epoch 127/200\n",
      "7183/7183 [==============================] - 0s 16us/step - loss: 0.2332 - accuracy: 0.9347\n",
      "Epoch 128/200\n",
      "7183/7183 [==============================] - 0s 15us/step - loss: 0.2345 - accuracy: 0.9347\n",
      "Epoch 129/200\n",
      "7183/7183 [==============================] - 0s 14us/step - loss: 0.2345 - accuracy: 0.9347\n",
      "Epoch 130/200\n",
      "7183/7183 [==============================] - 0s 14us/step - loss: 0.2344 - accuracy: 0.9347 - val_loss: 0.2495 - val_accuracy: 0.9159\n",
      "Epoch 131/200\n",
      "7183/7183 [==============================] - 0s 12us/step - loss: 0.2338 - accuracy: 0.9347\n",
      "Epoch 132/200\n",
      "7183/7183 [==============================] - 0s 15us/step - loss: 0.2341 - accuracy: 0.9347\n",
      "Epoch 133/200\n",
      "7183/7183 [==============================] - 0s 14us/step - loss: 0.2343 - accuracy: 0.9347\n",
      "Epoch 134/200\n",
      "7183/7183 [==============================] - 0s 14us/step - loss: 0.2339 - accuracy: 0.9347\n",
      "Epoch 135/200\n",
      "7183/7183 [==============================] - 0s 15us/step - loss: 0.2339 - accuracy: 0.9347 - val_loss: 0.2487 - val_accuracy: 0.9152\n",
      "Epoch 136/200\n",
      "7183/7183 [==============================] - 0s 13us/step - loss: 0.2336 - accuracy: 0.9347\n",
      "Epoch 137/200\n",
      "7183/7183 [==============================] - 0s 13us/step - loss: 0.2346 - accuracy: 0.9347\n",
      "Epoch 138/200\n",
      "7183/7183 [==============================] - 0s 15us/step - loss: 0.2339 - accuracy: 0.9347\n",
      "Epoch 139/200\n",
      "7183/7183 [==============================] - 0s 14us/step - loss: 0.2337 - accuracy: 0.9347\n",
      "Epoch 140/200\n",
      "7183/7183 [==============================] - 0s 17us/step - loss: 0.2348 - accuracy: 0.9347 - val_loss: 0.2478 - val_accuracy: 0.9157\n",
      "Epoch 141/200\n",
      "7183/7183 [==============================] - 0s 16us/step - loss: 0.2350 - accuracy: 0.9347\n",
      "Epoch 142/200\n",
      "7183/7183 [==============================] - 0s 14us/step - loss: 0.2343 - accuracy: 0.9347\n",
      "Epoch 143/200\n",
      "7183/7183 [==============================] - 0s 14us/step - loss: 0.2346 - accuracy: 0.9347\n",
      "Epoch 144/200\n"
     ]
    },
    {
     "name": "stdout",
     "output_type": "stream",
     "text": [
      "7183/7183 [==============================] - 0s 14us/step - loss: 0.2332 - accuracy: 0.9347\n",
      "Epoch 145/200\n",
      "7183/7183 [==============================] - 0s 14us/step - loss: 0.2350 - accuracy: 0.9347 - val_loss: 0.2496 - val_accuracy: 0.9161\n",
      "Epoch 146/200\n",
      "7183/7183 [==============================] - 0s 13us/step - loss: 0.2341 - accuracy: 0.9347\n",
      "Epoch 147/200\n",
      "7183/7183 [==============================] - 0s 13us/step - loss: 0.2340 - accuracy: 0.9347\n",
      "Epoch 148/200\n",
      "7183/7183 [==============================] - 0s 14us/step - loss: 0.2345 - accuracy: 0.9347\n",
      "Epoch 149/200\n",
      "7183/7183 [==============================] - 0s 13us/step - loss: 0.2340 - accuracy: 0.9347\n",
      "Epoch 150/200\n",
      "7183/7183 [==============================] - 0s 15us/step - loss: 0.2353 - accuracy: 0.9347 - val_loss: 0.2508 - val_accuracy: 0.9150\n",
      "Epoch 151/200\n",
      "7183/7183 [==============================] - 0s 13us/step - loss: 0.2338 - accuracy: 0.9347\n",
      "Epoch 152/200\n",
      "7183/7183 [==============================] - 0s 14us/step - loss: 0.2336 - accuracy: 0.9347\n",
      "Epoch 153/200\n",
      "7183/7183 [==============================] - 0s 16us/step - loss: 0.2344 - accuracy: 0.9347\n",
      "Epoch 154/200\n",
      "7183/7183 [==============================] - 0s 15us/step - loss: 0.2340 - accuracy: 0.9347\n",
      "Epoch 155/200\n",
      "7183/7183 [==============================] - 0s 19us/step - loss: 0.2335 - accuracy: 0.9347 - val_loss: 0.2475 - val_accuracy: 0.9161\n",
      "Epoch 156/200\n",
      "7183/7183 [==============================] - 0s 15us/step - loss: 0.2341 - accuracy: 0.9347\n",
      "Epoch 157/200\n",
      "7183/7183 [==============================] - 0s 18us/step - loss: 0.2340 - accuracy: 0.9347\n",
      "Epoch 158/200\n",
      "7183/7183 [==============================] - 0s 17us/step - loss: 0.2344 - accuracy: 0.9347\n",
      "Epoch 159/200\n",
      "7183/7183 [==============================] - 0s 13us/step - loss: 0.2332 - accuracy: 0.9347\n",
      "Epoch 160/200\n",
      "7183/7183 [==============================] - 0s 14us/step - loss: 0.2346 - accuracy: 0.9347 - val_loss: 0.2476 - val_accuracy: 0.9161\n",
      "Epoch 161/200\n",
      "7183/7183 [==============================] - 0s 13us/step - loss: 0.2344 - accuracy: 0.9347\n",
      "Epoch 162/200\n",
      "7183/7183 [==============================] - 0s 13us/step - loss: 0.2336 - accuracy: 0.9347\n",
      "Epoch 163/200\n",
      "7183/7183 [==============================] - 0s 14us/step - loss: 0.2339 - accuracy: 0.9347\n",
      "Epoch 164/200\n",
      "7183/7183 [==============================] - 0s 16us/step - loss: 0.2339 - accuracy: 0.9347\n",
      "Epoch 165/200\n",
      "7183/7183 [==============================] - 0s 19us/step - loss: 0.2344 - accuracy: 0.9347 - val_loss: 0.2478 - val_accuracy: 0.9161\n",
      "Epoch 166/200\n",
      "7183/7183 [==============================] - 0s 14us/step - loss: 0.2340 - accuracy: 0.9346\n",
      "Epoch 167/200\n",
      "7183/7183 [==============================] - 0s 12us/step - loss: 0.2342 - accuracy: 0.9347\n",
      "Epoch 168/200\n",
      "7183/7183 [==============================] - 0s 14us/step - loss: 0.2344 - accuracy: 0.9347\n",
      "Epoch 169/200\n",
      "7183/7183 [==============================] - 0s 19us/step - loss: 0.2347 - accuracy: 0.9347\n",
      "Epoch 170/200\n",
      "7183/7183 [==============================] - 0s 21us/step - loss: 0.2343 - accuracy: 0.9347 - val_loss: 0.2469 - val_accuracy: 0.9161\n",
      "Epoch 171/200\n",
      "7183/7183 [==============================] - 0s 14us/step - loss: 0.2341 - accuracy: 0.9347\n",
      "Epoch 172/200\n",
      "7183/7183 [==============================] - 0s 14us/step - loss: 0.2331 - accuracy: 0.9347\n",
      "Epoch 173/200\n",
      "7183/7183 [==============================] - 0s 13us/step - loss: 0.2334 - accuracy: 0.9347\n",
      "Epoch 174/200\n",
      "7183/7183 [==============================] - 0s 14us/step - loss: 0.2338 - accuracy: 0.9347\n",
      "Epoch 175/200\n",
      "7183/7183 [==============================] - 0s 17us/step - loss: 0.2341 - accuracy: 0.9347 - val_loss: 0.2484 - val_accuracy: 0.9152\n",
      "Epoch 176/200\n",
      "7183/7183 [==============================] - 0s 16us/step - loss: 0.2316 - accuracy: 0.9347\n",
      "Epoch 177/200\n",
      "7183/7183 [==============================] - 0s 15us/step - loss: 0.2340 - accuracy: 0.9347\n",
      "Epoch 178/200\n",
      "7183/7183 [==============================] - 0s 14us/step - loss: 0.2339 - accuracy: 0.9347\n",
      "Epoch 179/200\n",
      "7183/7183 [==============================] - 0s 14us/step - loss: 0.2337 - accuracy: 0.9347\n",
      "Epoch 180/200\n",
      "7183/7183 [==============================] - 0s 15us/step - loss: 0.2337 - accuracy: 0.9347 - val_loss: 0.2474 - val_accuracy: 0.9159\n",
      "Epoch 181/200\n",
      "7183/7183 [==============================] - 0s 14us/step - loss: 0.2340 - accuracy: 0.9347\n",
      "Epoch 182/200\n",
      "7183/7183 [==============================] - 0s 16us/step - loss: 0.2349 - accuracy: 0.9347\n",
      "Epoch 183/200\n",
      "7183/7183 [==============================] - 0s 15us/step - loss: 0.2368 - accuracy: 0.9347\n",
      "Epoch 184/200\n",
      "7183/7183 [==============================] - 0s 13us/step - loss: 0.2343 - accuracy: 0.9347\n",
      "Epoch 185/200\n",
      "7183/7183 [==============================] - 0s 14us/step - loss: 0.2339 - accuracy: 0.9347 - val_loss: 0.2475 - val_accuracy: 0.9161\n",
      "Epoch 186/200\n",
      "7183/7183 [==============================] - 0s 12us/step - loss: 0.2352 - accuracy: 0.9347\n",
      "Epoch 187/200\n",
      "7183/7183 [==============================] - 0s 13us/step - loss: 0.2349 - accuracy: 0.9347\n",
      "Epoch 188/200\n",
      "7183/7183 [==============================] - 0s 13us/step - loss: 0.2350 - accuracy: 0.9347\n",
      "Epoch 189/200\n",
      "7183/7183 [==============================] - 0s 16us/step - loss: 0.2343 - accuracy: 0.9347\n",
      "Epoch 190/200\n",
      "7183/7183 [==============================] - 0s 17us/step - loss: 0.2340 - accuracy: 0.9347 - val_loss: 0.2466 - val_accuracy: 0.9161\n",
      "Epoch 191/200\n",
      "7183/7183 [==============================] - 0s 15us/step - loss: 0.2341 - accuracy: 0.9347\n",
      "Epoch 192/200\n",
      "7183/7183 [==============================] - 0s 14us/step - loss: 0.2353 - accuracy: 0.9347\n",
      "Epoch 193/200\n",
      "7183/7183 [==============================] - 0s 15us/step - loss: 0.2340 - accuracy: 0.9347\n",
      "Epoch 194/200\n",
      "7183/7183 [==============================] - 0s 18us/step - loss: 0.2341 - accuracy: 0.9348\n",
      "Epoch 195/200\n",
      "7183/7183 [==============================] - 0s 18us/step - loss: 0.2344 - accuracy: 0.9347 - val_loss: 0.2461 - val_accuracy: 0.9171\n",
      "Epoch 196/200\n",
      "7183/7183 [==============================] - 0s 17us/step - loss: 0.2337 - accuracy: 0.9347\n",
      "Epoch 197/200\n",
      "7183/7183 [==============================] - 0s 17us/step - loss: 0.2361 - accuracy: 0.9347\n",
      "Epoch 198/200\n",
      "7183/7183 [==============================] - 0s 20us/step - loss: 0.2331 - accuracy: 0.9347\n",
      "Epoch 199/200\n",
      "7183/7183 [==============================] - 0s 17us/step - loss: 0.2344 - accuracy: 0.9347\n",
      "Epoch 200/200\n",
      "7183/7183 [==============================] - 0s 18us/step - loss: 0.2346 - accuracy: 0.9347 - val_loss: 0.2485 - val_accuracy: 0.9161\n"
     ]
    },
    {
     "data": {
      "text/plain": [
       "<keras.callbacks.callbacks.History at 0x1a50017e90>"
      ]
     },
     "execution_count": 111,
     "metadata": {},
     "output_type": "execute_result"
    }
   ],
   "source": [
    "#RUNNING THE MODEL ON TRAIN AND VALIDATING IT ON TEST\n",
    "model.fit(x_train,y_train,\n",
    "         epochs=200,\n",
    "         batch_size=500,\n",
    "         validation_data=(x_test,y_test),\n",
    "         validation_freq=5,\n",
    "         shuffle=True,\n",
    "         verbose=1)"
   ]
  },
  {
   "cell_type": "code",
   "execution_count": 112,
   "metadata": {},
   "outputs": [
    {
     "name": "stdout",
     "output_type": "stream",
     "text": [
      "2395/2395 [==============================] - 0s 38us/step\n"
     ]
    }
   ],
   "source": [
    "# EVALUATING ON TEST DATASET\n",
    "score=model.evaluate(x_test,y_test,verbose=1)"
   ]
  },
  {
   "cell_type": "code",
   "execution_count": 113,
   "metadata": {},
   "outputs": [
    {
     "name": "stdout",
     "output_type": "stream",
     "text": [
      "test_loss :\t 0.24847396295478796\n",
      "test_accuracy :\t 0.9160751700401306\n"
     ]
    }
   ],
   "source": [
    "print('test_loss :\\t {}'.format(score[0]))\n",
    "print('test_accuracy :\\t {}'.format(score[1]))"
   ]
  },
  {
   "cell_type": "code",
   "execution_count": 114,
   "metadata": {},
   "outputs": [],
   "source": [
    "#PREDICTING THE TARGET VARIABLES USING TEST DATASET\n",
    "predicted=model.predict(x_test)"
   ]
  },
  {
   "cell_type": "code",
   "execution_count": 115,
   "metadata": {},
   "outputs": [
    {
     "data": {
      "text/plain": [
       "array([[0.06871097, 0.9310218 ],\n",
       "       [0.04486564, 0.954314  ],\n",
       "       [0.1027675 , 0.8971593 ],\n",
       "       ...,\n",
       "       [0.04148034, 0.9576146 ],\n",
       "       [0.10368316, 0.8992291 ],\n",
       "       [0.06607146, 0.9342845 ]], dtype=float32)"
      ]
     },
     "execution_count": 115,
     "metadata": {},
     "output_type": "execute_result"
    }
   ],
   "source": [
    "predicted"
   ]
  },
  {
   "cell_type": "code",
   "execution_count": 116,
   "metadata": {},
   "outputs": [
    {
     "data": {
      "text/plain": [
       "array([[0., 1.],\n",
       "       [0., 1.],\n",
       "       [0., 1.],\n",
       "       ...,\n",
       "       [0., 1.],\n",
       "       [0., 1.],\n",
       "       [0., 1.]], dtype=float32)"
      ]
     },
     "execution_count": 116,
     "metadata": {},
     "output_type": "execute_result"
    }
   ],
   "source": [
    "y_test"
   ]
  },
  {
   "cell_type": "code",
   "execution_count": null,
   "metadata": {},
   "outputs": [],
   "source": []
  },
  {
   "cell_type": "code",
   "execution_count": null,
   "metadata": {},
   "outputs": [],
   "source": []
  }
 ],
 "metadata": {
  "kernelspec": {
   "display_name": "Python 3",
   "language": "python",
   "name": "python3"
  },
  "language_info": {
   "codemirror_mode": {
    "name": "ipython",
    "version": 3
   },
   "file_extension": ".py",
   "mimetype": "text/x-python",
   "name": "python",
   "nbconvert_exporter": "python",
   "pygments_lexer": "ipython3",
   "version": "3.7.6"
  }
 },
 "nbformat": 4,
 "nbformat_minor": 4
}
